{
 "cells": [
  {
   "cell_type": "markdown",
   "metadata": {},
   "source": [
    "<center><h1>Clinical Workflow Integration</h1></center>"
   ]
  },
  {
   "cell_type": "code",
   "execution_count": 1,
   "metadata": {},
   "outputs": [
    {
     "name": "stderr",
     "output_type": "stream",
     "text": [
      "Using TensorFlow backend.\n"
     ]
    }
   ],
   "source": [
    "import numpy as np\n",
    "import pandas as pd\n",
    "import pydicom\n",
    "%matplotlib inline\n",
    "import matplotlib.pyplot as plt\n",
    "import keras \n",
    "from keras.models import model_from_json\n",
    "from skimage.transform import resize"
   ]
  },
  {
   "cell_type": "code",
   "execution_count": 2,
   "metadata": {},
   "outputs": [
    {
     "data": {
      "text/plain": [
       "(0008, 0016) SOP Class UID                       UI: Secondary Capture Image Storage\n",
       "(0008, 0018) SOP Instance UID                    UI: 1.3.6.1.4.1.11129.5.5.179222148351666120521423991179194552820263\n",
       "(0008, 0060) Modality                            CS: 'DX'\n",
       "(0008, 1030) Study Description                   LO: 'Effusion'\n",
       "(0010, 0020) Patient ID                          LO: '61'\n",
       "(0010, 0040) Patient's Sex                       CS: 'M'\n",
       "(0010, 1010) Patient's Age                       AS: '77'\n",
       "(0018, 0015) Body Part Examined                  CS: 'CHEST'\n",
       "(0018, 5100) Patient Position                    CS: 'AP'\n",
       "(0020, 000d) Study Instance UID                  UI: 1.3.6.1.4.1.11129.5.5.189886800072183603320722059194952488628637\n",
       "(0020, 000e) Series Instance UID                 UI: 1.3.6.1.4.1.11129.5.5.110145974268321300517474523922373370343198\n",
       "(0028, 0002) Samples per Pixel                   US: 1\n",
       "(0028, 0004) Photometric Interpretation          CS: 'MONOCHROME2'\n",
       "(0028, 0010) Rows                                US: 1024\n",
       "(0028, 0011) Columns                             US: 1024\n",
       "(0028, 0100) Bits Allocated                      US: 8\n",
       "(0028, 0101) Bits Stored                         US: 8\n",
       "(0028, 0102) High Bit                            US: 7\n",
       "(0028, 0103) Pixel Representation                US: 0\n",
       "(7fe0, 0010) Pixel Data                          OW: Array of 1048576 elements"
      ]
     },
     "execution_count": 2,
     "metadata": {},
     "output_type": "execute_result"
    }
   ],
   "source": [
    "# We take a sample of a given dicom file and see the attributes in the file\n",
    "\n",
    "dcm1 = pydicom.dcmread('test3.dcm')\n",
    "dcm1"
   ]
  },
  {
   "cell_type": "code",
   "execution_count": 3,
   "metadata": {},
   "outputs": [],
   "source": [
    "# This function reads in a .dcm file, checks the important fields for our device, and \n",
    "# returns a numpy array of just the imaging data\n",
    "def check_dicom(filename): \n",
    "    print('Load file {} ...'.format(filename))     \n",
    "    dcm = pydicom.dcmread(filename)\n",
    "    if dcm.BodyPartExamined != 'CHEST' or dcm.Modality != 'DX' or dcm.PatientPosition not in ['PA', 'AP']:\n",
    "        print(\"Unable to process \", filename)\n",
    "        return None\n",
    "    else:        \n",
    "        print(\"Able to process \", filename)\n",
    "        img = dcm.pixel_array\n",
    "        return img\n",
    "        \n",
    "# This function takes the numpy array output by check_dicom and \n",
    "# runs the appropriate pre-processing needed for our model input\n",
    "def preprocess_image(img,img_mean,img_std,img_size):\n",
    "    img=img/255.0  # Normalize\n",
    "    proc_img = (img - img_mean)/img_std # Standardize\n",
    "    proc_img =  resize(proc_img, img_size, anti_aliasing=True)\n",
    "    return proc_img\n",
    "\n",
    "# This function loads in our trained model w/ weights and compiles it \n",
    "def load_model(model_path, weight_path):\n",
    "    with open(model_path, \"r\") as file:\n",
    "        loaded_model = file.read()\n",
    "    model = model_from_json(loaded_model)\n",
    "    model.load_weights(weight_path)\n",
    "    return model\n",
    "\n",
    "# This function uses our device's threshold parameters to predict whether or not\n",
    "# the image shows the presence of pneumonia using our trained model\n",
    "def predict_image(model, img, thresh): \n",
    "    probability = model.predict(img)\n",
    "    print('Prediction: ', probability)\n",
    "    predict=probability[0]\n",
    "    prediction='No pneumonia'\n",
    "    if(predict>thresh):\n",
    "        prediction='Pneumonia'\n",
    "    return prediction "
   ]
  },
  {
   "cell_type": "markdown",
   "metadata": {},
   "source": [
    "Before we test our dicom files, let's see some information about the files first so we can compare it with our test result."
   ]
  },
  {
   "cell_type": "code",
   "execution_count": 4,
   "metadata": {},
   "outputs": [],
   "source": [
    "def create_dicom_df(filenames):\n",
    "    print('Load file {} ...'.format(filenames))\n",
    "    column_names = [\"Filename\", \"Body Part Examined\", \"Modality\", \"Findings\", \"Patient Position\"]\n",
    "    all_data = []\n",
    "    for i in filenames:\n",
    "        dcm = pydicom.dcmread(i)\n",
    "        fields = [i, dcm.BodyPartExamined, dcm.Modality, dcm.StudyDescription, dcm.PatientPosition]\n",
    "        all_data.append(fields)\n",
    "    mydata = pd.DataFrame(all_data, columns = column_names)\n",
    "    return mydata"
   ]
  },
  {
   "cell_type": "code",
   "execution_count": 5,
   "metadata": {},
   "outputs": [
    {
     "name": "stdout",
     "output_type": "stream",
     "text": [
      "Load file ['test1.dcm', 'test2.dcm', 'test3.dcm', 'test4.dcm', 'test5.dcm', 'test6.dcm'] ...\n"
     ]
    },
    {
     "data": {
      "text/html": [
       "<div>\n",
       "<style scoped>\n",
       "    .dataframe tbody tr th:only-of-type {\n",
       "        vertical-align: middle;\n",
       "    }\n",
       "\n",
       "    .dataframe tbody tr th {\n",
       "        vertical-align: top;\n",
       "    }\n",
       "\n",
       "    .dataframe thead th {\n",
       "        text-align: right;\n",
       "    }\n",
       "</style>\n",
       "<table border=\"1\" class=\"dataframe\">\n",
       "  <thead>\n",
       "    <tr style=\"text-align: right;\">\n",
       "      <th></th>\n",
       "      <th>Filename</th>\n",
       "      <th>Body Part Examined</th>\n",
       "      <th>Modality</th>\n",
       "      <th>Findings</th>\n",
       "      <th>Patient Position</th>\n",
       "    </tr>\n",
       "  </thead>\n",
       "  <tbody>\n",
       "    <tr>\n",
       "      <th>0</th>\n",
       "      <td>test1.dcm</td>\n",
       "      <td>CHEST</td>\n",
       "      <td>DX</td>\n",
       "      <td>No Finding</td>\n",
       "      <td>PA</td>\n",
       "    </tr>\n",
       "    <tr>\n",
       "      <th>1</th>\n",
       "      <td>test2.dcm</td>\n",
       "      <td>CHEST</td>\n",
       "      <td>DX</td>\n",
       "      <td>Cardiomegaly</td>\n",
       "      <td>AP</td>\n",
       "    </tr>\n",
       "    <tr>\n",
       "      <th>2</th>\n",
       "      <td>test3.dcm</td>\n",
       "      <td>CHEST</td>\n",
       "      <td>DX</td>\n",
       "      <td>Effusion</td>\n",
       "      <td>AP</td>\n",
       "    </tr>\n",
       "    <tr>\n",
       "      <th>3</th>\n",
       "      <td>test4.dcm</td>\n",
       "      <td>RIBCAGE</td>\n",
       "      <td>DX</td>\n",
       "      <td>No Finding</td>\n",
       "      <td>PA</td>\n",
       "    </tr>\n",
       "    <tr>\n",
       "      <th>4</th>\n",
       "      <td>test5.dcm</td>\n",
       "      <td>CHEST</td>\n",
       "      <td>CT</td>\n",
       "      <td>No Finding</td>\n",
       "      <td>PA</td>\n",
       "    </tr>\n",
       "    <tr>\n",
       "      <th>5</th>\n",
       "      <td>test6.dcm</td>\n",
       "      <td>CHEST</td>\n",
       "      <td>DX</td>\n",
       "      <td>No Finding</td>\n",
       "      <td>XX</td>\n",
       "    </tr>\n",
       "  </tbody>\n",
       "</table>\n",
       "</div>"
      ],
      "text/plain": [
       "    Filename Body Part Examined Modality      Findings Patient Position\n",
       "0  test1.dcm              CHEST       DX    No Finding               PA\n",
       "1  test2.dcm              CHEST       DX  Cardiomegaly               AP\n",
       "2  test3.dcm              CHEST       DX      Effusion               AP\n",
       "3  test4.dcm            RIBCAGE       DX    No Finding               PA\n",
       "4  test5.dcm              CHEST       CT    No Finding               PA\n",
       "5  test6.dcm              CHEST       DX    No Finding               XX"
      ]
     },
     "execution_count": 5,
     "metadata": {},
     "output_type": "execute_result"
    }
   ],
   "source": [
    "test_dicoms = ['test1.dcm','test2.dcm','test3.dcm','test4.dcm','test5.dcm','test6.dcm']\n",
    "create_dicom_df(test_dicoms)"
   ]
  },
  {
   "cell_type": "markdown",
   "metadata": {},
   "source": [
    "From the dataframe above we can see that test4.dcm, test5.dcm, test6.dcm are not appropriate for our model since our model requires the Body Part Examinded to be 'Chest', Modality to be 'DX' and Patient Position to be 'AP' or 'PA'."
   ]
  },
  {
   "cell_type": "markdown",
   "metadata": {},
   "source": [
    "### Use the threshold which was chosen from Bulid and Train Model."
   ]
  },
  {
   "cell_type": "code",
   "execution_count": 7,
   "metadata": {},
   "outputs": [
    {
     "name": "stdout",
     "output_type": "stream",
     "text": [
      "Load file test1.dcm ...\n",
      "Able to process  test1.dcm\n",
      "Prediction:  [[0.30717582]]\n",
      "No pneumonia\n",
      "Load file test2.dcm ...\n",
      "Able to process  test2.dcm\n",
      "Prediction:  [[0.40139523]]\n",
      "No pneumonia\n",
      "Load file test3.dcm ...\n",
      "Able to process  test3.dcm\n",
      "Prediction:  [[0.41943836]]\n",
      "No pneumonia\n",
      "Load file test4.dcm ...\n",
      "Unable to process  test4.dcm\n",
      "Load file test5.dcm ...\n",
      "Unable to process  test5.dcm\n",
      "Load file test6.dcm ...\n",
      "Unable to process  test6.dcm\n"
     ]
    }
   ],
   "source": [
    "test_dicoms = ['test1.dcm','test2.dcm','test3.dcm','test4.dcm','test5.dcm','test6.dcm']\n",
    "\n",
    "weight_path=\"{}_my_model3.best.hdf5\".format('xray_class')\n",
    "model_path = 'my_model3.json'\n",
    "\n",
    "IMG_SIZE=(1,224,224,3) # This might be different if you did not use vgg16\n",
    "#img_mean = # loads the mean image value they used during training preprocessing\n",
    "#img_std = # loads the std dev image value they used during training preprocessing\n",
    "\n",
    "my_model = load_model(model_path, weight_path)\n",
    "thresh3 = 0.5226132 # threshold which was chosen from Bulid and Train Mode 3\n",
    "\n",
    "# use the .dcm files to test your prediction\n",
    "for i in test_dicoms:\n",
    "    \n",
    "    img = np.array([])\n",
    "    img = check_dicom(i)\n",
    "    \n",
    "    if img is None:\n",
    "        continue\n",
    "    else:\n",
    "        img_mean = np.mean(img)\n",
    "        img_std =  np.std(img)\n",
    "        img_proc = preprocess_image(img,img_mean,img_std,IMG_SIZE)\n",
    "        pred = predict_image(my_model,img_proc,thresh3)\n",
    "        print(pred)"
   ]
  },
  {
   "cell_type": "markdown",
   "metadata": {},
   "source": [
    "The above shows that the threshold which was chosen in **Build and Train Model 3** correctly predict \"no pneumonia\" in all 3 valid files (test1.dcm, test2.dcm, test3.dcm). We see that the algorithm's prediction is between 0.3 - 0.42 while the best threshold is 0.5226132. \n",
    "\n",
    "Note that in here we are only given 3 valid test images to test the performance of the model, so the result should not represent the performance of the overall model. In order get a better idea of the model's performance, we need to test the model with more than 3 images, maybe hundereds or thousands."
   ]
  }
 ],
 "metadata": {
  "kernelspec": {
   "display_name": "Python 3 (ipykernel)",
   "language": "python",
   "name": "python3"
  },
  "language_info": {
   "codemirror_mode": {
    "name": "ipython",
    "version": 3
   },
   "file_extension": ".py",
   "mimetype": "text/x-python",
   "name": "python",
   "nbconvert_exporter": "python",
   "pygments_lexer": "ipython3",
   "version": "3.8.12"
  }
 },
 "nbformat": 4,
 "nbformat_minor": 2
}
